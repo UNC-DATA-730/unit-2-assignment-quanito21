{
 "cells": [
  {
   "cell_type": "markdown",
   "id": "df0d234f-1e1a-4495-8208-e177e7f527aa",
   "metadata": {},
   "source": [
    "Complete the exercises below For **Assignment #2**."
   ]
  },
  {
   "cell_type": "markdown",
   "id": "8b703928-3ba6-4f4d-a212-2eaeb1d5ef90",
   "metadata": {},
   "source": [
    "First, load the `Tidyverse` package which imports data visualization and wrangling libraries that we need."
   ]
  },
  {
   "cell_type": "code",
   "execution_count": 13,
   "id": "9dbc1d3b-93c7-42c4-b485-08ceb7265ae6",
   "metadata": {
    "vscode": {
     "languageId": "r"
    }
   },
   "outputs": [],
   "source": [
    "# uncomment the code below and execute this cell\n",
    "library('tidyverse')"
   ]
  },
  {
   "cell_type": "markdown",
   "id": "491479b3-29cb-4a7f-91a8-b127515f50c4",
   "metadata": {},
   "source": [
    "If you are unable to load the `Tidyverse` package, you may not have it installed. Please refer to the assignment `README` for instructions to update your `data730` environment to include the `Tidyverse` package."
   ]
  },
  {
   "cell_type": "markdown",
   "id": "d073157d-f73b-4db8-85f3-e4fb3641dd23",
   "metadata": {},
   "source": [
    "## Data visualization"
   ]
  },
  {
   "cell_type": "markdown",
   "id": "73c5c496-4a90-4c65-93f8-e9121564e8b6",
   "metadata": {},
   "source": [
    "Let's work with the [Palmer Penguins data](https://allisonhorst.github.io/palmerpenguins/)."
   ]
  },
  {
   "cell_type": "code",
   "execution_count": 14,
   "id": "6382a53a-bcca-4111-a1e2-58aeda6ebd29",
   "metadata": {
    "vscode": {
     "languageId": "r"
    }
   },
   "outputs": [
    {
     "name": "stdout",
     "output_type": "stream",
     "text": [
      "Rows: 344\n",
      "Columns: 8\n",
      "$ species           \u001b[3m\u001b[90m<fct>\u001b[39m\u001b[23m Adelie\u001b[90m, \u001b[39mAdelie\u001b[90m, \u001b[39mAdelie\u001b[90m, \u001b[39mAdelie\u001b[90m, \u001b[39mAdelie\u001b[90m, \u001b[39mAdelie\u001b[90m, \u001b[39mAdel…\n",
      "$ island            \u001b[3m\u001b[90m<fct>\u001b[39m\u001b[23m Torgersen\u001b[90m, \u001b[39mTorgersen\u001b[90m, \u001b[39mTorgersen\u001b[90m, \u001b[39mTorgersen\u001b[90m, \u001b[39mTorgerse…\n",
      "$ bill_length_mm    \u001b[3m\u001b[90m<dbl>\u001b[39m\u001b[23m 39.1\u001b[90m, \u001b[39m39.5\u001b[90m, \u001b[39m40.3\u001b[90m, \u001b[39m\u001b[31mNA\u001b[39m\u001b[90m, \u001b[39m36.7\u001b[90m, \u001b[39m39.3\u001b[90m, \u001b[39m38.9\u001b[90m, \u001b[39m39.2\u001b[90m, \u001b[39m34.1\u001b[90m, \u001b[39m…\n",
      "$ bill_depth_mm     \u001b[3m\u001b[90m<dbl>\u001b[39m\u001b[23m 18.7\u001b[90m, \u001b[39m17.4\u001b[90m, \u001b[39m18.0\u001b[90m, \u001b[39m\u001b[31mNA\u001b[39m\u001b[90m, \u001b[39m19.3\u001b[90m, \u001b[39m20.6\u001b[90m, \u001b[39m17.8\u001b[90m, \u001b[39m19.6\u001b[90m, \u001b[39m18.1\u001b[90m, \u001b[39m…\n",
      "$ flipper_length_mm \u001b[3m\u001b[90m<int>\u001b[39m\u001b[23m 181\u001b[90m, \u001b[39m186\u001b[90m, \u001b[39m195\u001b[90m, \u001b[39m\u001b[31mNA\u001b[39m\u001b[90m, \u001b[39m193\u001b[90m, \u001b[39m190\u001b[90m, \u001b[39m181\u001b[90m, \u001b[39m195\u001b[90m, \u001b[39m193\u001b[90m, \u001b[39m190\u001b[90m, \u001b[39m186…\n",
      "$ body_mass_g       \u001b[3m\u001b[90m<int>\u001b[39m\u001b[23m 3750\u001b[90m, \u001b[39m3800\u001b[90m, \u001b[39m3250\u001b[90m, \u001b[39m\u001b[31mNA\u001b[39m\u001b[90m, \u001b[39m3450\u001b[90m, \u001b[39m3650\u001b[90m, \u001b[39m3625\u001b[90m, \u001b[39m4675\u001b[90m, \u001b[39m3475\u001b[90m, \u001b[39m…\n",
      "$ sex               \u001b[3m\u001b[90m<fct>\u001b[39m\u001b[23m male\u001b[90m, \u001b[39mfemale\u001b[90m, \u001b[39mfemale\u001b[90m, \u001b[39m\u001b[31mNA\u001b[39m\u001b[90m, \u001b[39mfemale\u001b[90m, \u001b[39mmale\u001b[90m, \u001b[39mfemale\u001b[90m, \u001b[39mmale…\n",
      "$ year              \u001b[3m\u001b[90m<int>\u001b[39m\u001b[23m 2007\u001b[90m, \u001b[39m2007\u001b[90m, \u001b[39m2007\u001b[90m, \u001b[39m2007\u001b[90m, \u001b[39m2007\u001b[90m, \u001b[39m2007\u001b[90m, \u001b[39m2007\u001b[90m, \u001b[39m2007\u001b[90m, \u001b[39m2007…\n"
     ]
    }
   ],
   "source": [
    "# uncomment the code below and execute this cell\n",
    "library('palmerpenguins')\n",
    "glimpse(penguins)"
   ]
  },
  {
   "cell_type": "markdown",
   "id": "34864040-9f5d-418b-8876-87f3c0fafd47",
   "metadata": {},
   "source": [
    "We now have a data frame called `penguins` available. Use this table for the following exercises."
   ]
  },
  {
   "cell_type": "markdown",
   "id": "7c5fd7a4-9d53-4791-83fc-bebe0ce85b3f",
   "metadata": {},
   "source": [
    "### Bar chart"
   ]
  },
  {
   "cell_type": "markdown",
   "id": "ea10b81d-076c-45d8-b5dd-345fcf60a1e1",
   "metadata": {},
   "source": [
    "In the cell below make a bar chart that shows how many penguins are in the data from each island. Encode the penguin species as the `fill` attribute of the bars."
   ]
  },
  {
   "cell_type": "code",
   "execution_count": 15,
   "id": "8531f480-6819-40dc-b2ae-80d9c0465189",
   "metadata": {
    "vscode": {
     "languageId": "r"
    }
   },
   "outputs": [
    {
     "data": {
      "image/png": "[encoded data removed]",
      "text/plain": [
       "plot without title"
      ]
     },
     "metadata": {
      "image/png": {
       "height": 500,
       "width": 625
      }
     },
     "output_type": "display_data"
    }
   ],
   "source": [
    "library(ggplot2)\n",
    "library(dplyr)\n",
    "\n",
    "# Remove rows with NA values in the 'species' and 'island' columns\n",
    "penguins_clean <- penguins %>% filter(!is.na(species), !is.na(island))\n",
    "\n",
    "# Create the bar chart\n",
    "ggplot(penguins_clean, aes(x = island, fill = species)) +\n",
    "  geom_bar() +\n",
    "  labs(title = \"Penguin Count by Island\",\n",
    "       x = \"Island\",\n",
    "       y = \"Count\",\n",
    "       fill = \"Species\") +\n",
    "  theme_minimal()"
   ]
  },
  {
   "cell_type": "markdown",
   "id": "f26fc608-2e43-4148-bad1-343d44c639f9",
   "metadata": {},
   "source": [
    "**In which islands were *Adelie* penguins observed?** Answer using a [markdown list](https://www.markdownguide.org/basic-syntax/#lists-1) in the cell below. \n",
    "\n",
    "⚠️ Remember to switch the cell type to `Markdown`."
   ]
  },
  {
   "cell_type": "markdown",
   "id": "40f69f14-79c9-41ad-a53a-57cc113a8832",
   "metadata": {},
   "source": [
    "Biscoe, Dream and Torgersen"
   ]
  },
  {
   "cell_type": "markdown",
   "id": "5b94df58-517e-461c-a73c-d5294320650f",
   "metadata": {},
   "source": [
    "### Scatter chart"
   ]
  },
  {
   "cell_type": "markdown",
   "id": "73843967-6908-45e4-bb6a-48803112a46f",
   "metadata": {},
   "source": [
    "Make a scatter chart of bill depth versus bill length. Color the points by penguin species. Add a `scale` modification to your chart to adjust the color palette (e.g. add `scale_color_brewer(palette = \"Set2\")`)."
   ]
  },
  {
   "cell_type": "code",
   "execution_count": 16,
   "id": "c0ad6a0e-b113-44b3-8fdc-4a034ec24872",
   "metadata": {
    "vscode": {
     "languageId": "r"
    }
   },
   "outputs": [
    {
     "data": {
      "image/png": "[encoded data removed]",
      "text/plain": [
       "plot without title"
      ]
     },
     "metadata": {
      "image/png": {
       "height": 500,
       "width": 625
      }
     },
     "output_type": "display_data"
    }
   ],
   "source": [
    "# Remove rows with NA values in the relevant columns\n",
    "penguins_clean <- penguins %>% filter(!is.na(bill_length_mm), !is.na(bill_depth_mm), !is.na(species))\n",
    "\n",
    "# Create the scatter plot\n",
    "ggplot(penguins_clean, aes(x = bill_length_mm, y = bill_depth_mm, color = species)) +\n",
    "  geom_point() +\n",
    "  labs(title = \"Scatter Plot of Bill Depth vs Bill Length\",\n",
    "       x = \"Bill Length (mm)\",\n",
    "       y = \"Bill Depth (mm)\",\n",
    "       color = \"Species\") +\n",
    "  scale_color_brewer(palette = \"Set2\") +\n",
    "  theme_minimal()"
   ]
  },
  {
   "cell_type": "markdown",
   "id": "40819f31-256f-480e-b698-e67fd97a1f37",
   "metadata": {},
   "source": [
    "### Histogram"
   ]
  },
  {
   "cell_type": "markdown",
   "id": "fdcf1e1b-1a5b-40e6-9a2b-8294dc7c6c51",
   "metadata": {},
   "source": [
    "Make a histogram of penguin body mass. \n",
    "- Facet your chart by the `sex` column using the `facet_wrap` function and setting the `ncol` parameter to `1`.\n",
    "- In your `geom_histogram` layer, set the `position` argument to `\"identity\"` and set `alpha`to a value between `0` and `1`.\n",
    "- Map penguin species to the `fill` property.\n",
    "- Adjust the `fill` scale palette similarly to how we adjusted the `color` scale palette above. I.e. change to the [ColorBrewer](https://colorbrewer2.org/) `\"Set2\"` palette."
   ]
  },
  {
   "cell_type": "code",
   "execution_count": 17,
   "id": "c433f569-33c9-4db1-936a-501e32a02f76",
   "metadata": {
    "vscode": {
     "languageId": "r"
    }
   },
   "outputs": [
    {
     "data": {
      "image/png": "[encoded data removed]",
      "text/plain": [
       "plot without title"
      ]
     },
     "metadata": {
      "image/png": {
       "height": 500,
       "width": 625
      }
     },
     "output_type": "display_data"
    }
   ],
   "source": [
    "# Remove rows with NA values in relevant columns\n",
    "penguins_clean <- penguins %>% filter(!is.na(body_mass_g), !is.na(sex), !is.na(species))\n",
    "\n",
    "# Create the histogram\n",
    "ggplot(penguins_clean, aes(x = body_mass_g, fill = species)) +\n",
    "  geom_histogram(position = \"identity\", alpha = 0.6, bins = 30) +\n",
    "  labs(title = \"Histogram of Penguin Body Mass\",\n",
    "       x = \"Body Mass (g)\",\n",
    "       y = \"Count\",\n",
    "       fill = \"Species\") +\n",
    "  scale_fill_brewer(palette = \"Set2\") +\n",
    "  facet_wrap(~sex, ncol = 1) +\n",
    "  theme_minimal()"
   ]
  },
  {
   "cell_type": "markdown",
   "id": "854017b3-f7ad-4f2d-a325-f1f4a49795ad",
   "metadata": {},
   "source": [
    "What happens when you don't have `position = \"identity\"` in your `geom_histogram` layer? Answer below in a `Markdown` cell."
   ]
  },
  {
   "cell_type": "markdown",
   "id": "8f08569c-b3a4-41a1-b754-4204ed37654d",
   "metadata": {
    "vscode": {
     "languageId": "r"
    }
   },
   "source": [
    "The count for Adelie and male and female will be higher "
   ]
  },
  {
   "cell_type": "markdown",
   "id": "a8051b80-c2bf-4dcc-a5aa-4f2b1f27d417",
   "metadata": {},
   "source": [
    "## Data wrangling"
   ]
  },
  {
   "cell_type": "markdown",
   "id": "4f29afa6-9168-4227-8301-283f4080117c",
   "metadata": {},
   "source": [
    "First we are going to bring in a data set to practice with called `txhousing`. You can find some information about `txhousing` [here](https://ggplot2.tidyverse.org/reference/txhousing.html)."
   ]
  },
  {
   "cell_type": "code",
   "execution_count": 18,
   "id": "579bef17-cd8c-4c8d-a4a1-f1850bf3a142",
   "metadata": {
    "vscode": {
     "languageId": "r"
    }
   },
   "outputs": [
    {
     "name": "stdout",
     "output_type": "stream",
     "text": [
      "Rows: 8,602\n",
      "Columns: 9\n",
      "$ city      \u001b[3m\u001b[90m<chr>\u001b[39m\u001b[23m \"Abilene\"\u001b[90m, \u001b[39m\"Abilene\"\u001b[90m, \u001b[39m\"Abilene\"\u001b[90m, \u001b[39m\"Abilene\"\u001b[90m, \u001b[39m\"Abilene\"\u001b[90m, \u001b[39m\"Abil…\n",
      "$ year      \u001b[3m\u001b[90m<int>\u001b[39m\u001b[23m 2000\u001b[90m, \u001b[39m2000\u001b[90m, \u001b[39m2000\u001b[90m, \u001b[39m2000\u001b[90m, \u001b[39m2000\u001b[90m, \u001b[39m2000\u001b[90m, \u001b[39m2000\u001b[90m, \u001b[39m2000\u001b[90m, \u001b[39m2000\u001b[90m, \u001b[39m2000\u001b[90m, \u001b[39m…\n",
      "$ month     \u001b[3m\u001b[90m<int>\u001b[39m\u001b[23m 1\u001b[90m, \u001b[39m2\u001b[90m, \u001b[39m3\u001b[90m, \u001b[39m4\u001b[90m, \u001b[39m5\u001b[90m, \u001b[39m6\u001b[90m, \u001b[39m7\u001b[90m, \u001b[39m8\u001b[90m, \u001b[39m9\u001b[90m, \u001b[39m10\u001b[90m, \u001b[39m11\u001b[90m, \u001b[39m12\u001b[90m, \u001b[39m1\u001b[90m, \u001b[39m2\u001b[90m, \u001b[39m3\u001b[90m, \u001b[39m4\u001b[90m, \u001b[39m5\u001b[90m, \u001b[39m6\u001b[90m, \u001b[39m7\u001b[90m, \u001b[39m…\n",
      "$ sales     \u001b[3m\u001b[90m<dbl>\u001b[39m\u001b[23m 72\u001b[90m, \u001b[39m98\u001b[90m, \u001b[39m130\u001b[90m, \u001b[39m98\u001b[90m, \u001b[39m141\u001b[90m, \u001b[39m156\u001b[90m, \u001b[39m152\u001b[90m, \u001b[39m131\u001b[90m, \u001b[39m104\u001b[90m, \u001b[39m101\u001b[90m, \u001b[39m100\u001b[90m, \u001b[39m92\u001b[90m, \u001b[39m75\u001b[90m, \u001b[39m…\n",
      "$ volume    \u001b[3m\u001b[90m<dbl>\u001b[39m\u001b[23m 5380000\u001b[90m, \u001b[39m6505000\u001b[90m, \u001b[39m9285000\u001b[90m, \u001b[39m9730000\u001b[90m, \u001b[39m10590000\u001b[90m, \u001b[39m13910000\u001b[90m, \u001b[39m1263…\n",
      "$ median    \u001b[3m\u001b[90m<dbl>\u001b[39m\u001b[23m 71400\u001b[90m, \u001b[39m58700\u001b[90m, \u001b[39m58100\u001b[90m, \u001b[39m68600\u001b[90m, \u001b[39m67300\u001b[90m, \u001b[39m66900\u001b[90m, \u001b[39m73500\u001b[90m, \u001b[39m75000\u001b[90m, \u001b[39m6450…\n",
      "$ listings  \u001b[3m\u001b[90m<dbl>\u001b[39m\u001b[23m 701\u001b[90m, \u001b[39m746\u001b[90m, \u001b[39m784\u001b[90m, \u001b[39m785\u001b[90m, \u001b[39m794\u001b[90m, \u001b[39m780\u001b[90m, \u001b[39m742\u001b[90m, \u001b[39m765\u001b[90m, \u001b[39m771\u001b[90m, \u001b[39m764\u001b[90m, \u001b[39m721\u001b[90m, \u001b[39m658\u001b[90m, \u001b[39m…\n",
      "$ inventory \u001b[3m\u001b[90m<dbl>\u001b[39m\u001b[23m 6.3\u001b[90m, \u001b[39m6.6\u001b[90m, \u001b[39m6.8\u001b[90m, \u001b[39m6.9\u001b[90m, \u001b[39m6.8\u001b[90m, \u001b[39m6.6\u001b[90m, \u001b[39m6.2\u001b[90m, \u001b[39m6.4\u001b[90m, \u001b[39m6.5\u001b[90m, \u001b[39m6.6\u001b[90m, \u001b[39m6.2\u001b[90m, \u001b[39m5.7\u001b[90m, \u001b[39m…\n",
      "$ date      \u001b[3m\u001b[90m<dbl>\u001b[39m\u001b[23m 2000.000\u001b[90m, \u001b[39m2000.083\u001b[90m, \u001b[39m2000.167\u001b[90m, \u001b[39m2000.250\u001b[90m, \u001b[39m2000.333\u001b[90m, \u001b[39m2000.417\u001b[90m, \u001b[39m…\n"
     ]
    }
   ],
   "source": [
    "# uncomment the next two lines and execute this cell\n",
    "data(txhousing)\n",
    "glimpse(txhousing)"
   ]
  },
  {
   "cell_type": "markdown",
   "id": "14886b6e-aeb2-41c7-ba8c-e8a56cec6ac5",
   "metadata": {},
   "source": [
    "Write a code chunk to remove the inventory variable. Save the results in a data frame called `txhousing`. Use `glimpse` or `head` to confirm you have removed the variable."
   ]
  },
  {
   "cell_type": "code",
   "execution_count": 19,
   "id": "f98fd4d1-1d20-410f-abc8-4e84f69e4fe9",
   "metadata": {
    "vscode": {
     "languageId": "r"
    }
   },
   "outputs": [
    {
     "name": "stdout",
     "output_type": "stream",
     "text": [
      "Rows: 8,602\n",
      "Columns: 8\n",
      "$ city     \u001b[3m\u001b[90m<chr>\u001b[39m\u001b[23m \"Abilene\"\u001b[90m, \u001b[39m\"Abilene\"\u001b[90m, \u001b[39m\"Abilene\"\u001b[90m, \u001b[39m\"Abilene\"\u001b[90m, \u001b[39m\"Abilene\"\u001b[90m, \u001b[39m\"Abile…\n",
      "$ year     \u001b[3m\u001b[90m<int>\u001b[39m\u001b[23m 2000\u001b[90m, \u001b[39m2000\u001b[90m, \u001b[39m2000\u001b[90m, \u001b[39m2000\u001b[90m, \u001b[39m2000\u001b[90m, \u001b[39m2000\u001b[90m, \u001b[39m2000\u001b[90m, \u001b[39m2000\u001b[90m, \u001b[39m2000\u001b[90m, \u001b[39m2000\u001b[90m, \u001b[39m2…\n",
      "$ month    \u001b[3m\u001b[90m<int>\u001b[39m\u001b[23m 1\u001b[90m, \u001b[39m2\u001b[90m, \u001b[39m3\u001b[90m, \u001b[39m4\u001b[90m, \u001b[39m5\u001b[90m, \u001b[39m6\u001b[90m, \u001b[39m7\u001b[90m, \u001b[39m8\u001b[90m, \u001b[39m9\u001b[90m, \u001b[39m10\u001b[90m, \u001b[39m11\u001b[90m, \u001b[39m12\u001b[90m, \u001b[39m1\u001b[90m, \u001b[39m2\u001b[90m, \u001b[39m3\u001b[90m, \u001b[39m4\u001b[90m, \u001b[39m5\u001b[90m, \u001b[39m6\u001b[90m, \u001b[39m7\u001b[90m, \u001b[39m8…\n",
      "$ sales    \u001b[3m\u001b[90m<dbl>\u001b[39m\u001b[23m 72\u001b[90m, \u001b[39m98\u001b[90m, \u001b[39m130\u001b[90m, \u001b[39m98\u001b[90m, \u001b[39m141\u001b[90m, \u001b[39m156\u001b[90m, \u001b[39m152\u001b[90m, \u001b[39m131\u001b[90m, \u001b[39m104\u001b[90m, \u001b[39m101\u001b[90m, \u001b[39m100\u001b[90m, \u001b[39m92\u001b[90m, \u001b[39m75\u001b[90m, \u001b[39m1…\n",
      "$ volume   \u001b[3m\u001b[90m<dbl>\u001b[39m\u001b[23m 5380000\u001b[90m, \u001b[39m6505000\u001b[90m, \u001b[39m9285000\u001b[90m, \u001b[39m9730000\u001b[90m, \u001b[39m10590000\u001b[90m, \u001b[39m13910000\u001b[90m, \u001b[39m12635…\n",
      "$ median   \u001b[3m\u001b[90m<dbl>\u001b[39m\u001b[23m 71400\u001b[90m, \u001b[39m58700\u001b[90m, \u001b[39m58100\u001b[90m, \u001b[39m68600\u001b[90m, \u001b[39m67300\u001b[90m, \u001b[39m66900\u001b[90m, \u001b[39m73500\u001b[90m, \u001b[39m75000\u001b[90m, \u001b[39m64500…\n",
      "$ listings \u001b[3m\u001b[90m<dbl>\u001b[39m\u001b[23m 701\u001b[90m, \u001b[39m746\u001b[90m, \u001b[39m784\u001b[90m, \u001b[39m785\u001b[90m, \u001b[39m794\u001b[90m, \u001b[39m780\u001b[90m, \u001b[39m742\u001b[90m, \u001b[39m765\u001b[90m, \u001b[39m771\u001b[90m, \u001b[39m764\u001b[90m, \u001b[39m721\u001b[90m, \u001b[39m658\u001b[90m, \u001b[39m7…\n",
      "$ date     \u001b[3m\u001b[90m<dbl>\u001b[39m\u001b[23m 2000.000\u001b[90m, \u001b[39m2000.083\u001b[90m, \u001b[39m2000.167\u001b[90m, \u001b[39m2000.250\u001b[90m, \u001b[39m2000.333\u001b[90m, \u001b[39m2000.417\u001b[90m, \u001b[39m2…\n"
     ]
    }
   ],
   "source": [
    "library(dplyr)\n",
    "\n",
    "# Remove the inventory variable\n",
    "txhousing <- txhousing %>% select(-inventory)\n",
    "\n",
    "# Confirm the variable has been removed\n",
    "glimpse(txhousing) "
   ]
  },
  {
   "cell_type": "markdown",
   "id": "505f7765-d874-4708-936b-1e74a8cb8703",
   "metadata": {},
   "source": [
    "Make a data set called `dallas_sub` that includes data only from the city of Dallas in 2012 & 2013."
   ]
  },
  {
   "cell_type": "code",
   "execution_count": 20,
   "id": "ab7cb735-71da-4b82-b79c-e91ce9b53e2f",
   "metadata": {
    "vscode": {
     "languageId": "r"
    }
   },
   "outputs": [
    {
     "name": "stdout",
     "output_type": "stream",
     "text": [
      "Rows: 24\n",
      "Columns: 8\n",
      "$ city     \u001b[3m\u001b[90m<chr>\u001b[39m\u001b[23m \"Dallas\"\u001b[90m, \u001b[39m\"Dallas\"\u001b[90m, \u001b[39m\"Dallas\"\u001b[90m, \u001b[39m\"Dallas\"\u001b[90m, \u001b[39m\"Dallas\"\u001b[90m, \u001b[39m\"Dallas\"\u001b[90m, \u001b[39m\"…\n",
      "$ year     \u001b[3m\u001b[90m<int>\u001b[39m\u001b[23m 2012\u001b[90m, \u001b[39m2012\u001b[90m, \u001b[39m2012\u001b[90m, \u001b[39m2012\u001b[90m, \u001b[39m2012\u001b[90m, \u001b[39m2012\u001b[90m, \u001b[39m2012\u001b[90m, \u001b[39m2012\u001b[90m, \u001b[39m2012\u001b[90m, \u001b[39m2012\u001b[90m, \u001b[39m2…\n",
      "$ month    \u001b[3m\u001b[90m<int>\u001b[39m\u001b[23m 1\u001b[90m, \u001b[39m2\u001b[90m, \u001b[39m3\u001b[90m, \u001b[39m4\u001b[90m, \u001b[39m5\u001b[90m, \u001b[39m6\u001b[90m, \u001b[39m7\u001b[90m, \u001b[39m8\u001b[90m, \u001b[39m9\u001b[90m, \u001b[39m10\u001b[90m, \u001b[39m11\u001b[90m, \u001b[39m12\u001b[90m, \u001b[39m1\u001b[90m, \u001b[39m2\u001b[90m, \u001b[39m3\u001b[90m, \u001b[39m4\u001b[90m, \u001b[39m5\u001b[90m, \u001b[39m6\u001b[90m, \u001b[39m7\u001b[90m, \u001b[39m8…\n",
      "$ sales    \u001b[3m\u001b[90m<dbl>\u001b[39m\u001b[23m 2555\u001b[90m, \u001b[39m3085\u001b[90m, \u001b[39m4068\u001b[90m, \u001b[39m4291\u001b[90m, \u001b[39m5004\u001b[90m, \u001b[39m5196\u001b[90m, \u001b[39m4859\u001b[90m, \u001b[39m5264\u001b[90m, \u001b[39m4151\u001b[90m, \u001b[39m4214\u001b[90m, \u001b[39m3…\n",
      "$ volume   \u001b[3m\u001b[90m<dbl>\u001b[39m\u001b[23m 509458081\u001b[90m, \u001b[39m634067291\u001b[90m, \u001b[39m898320563\u001b[90m, \u001b[39m983333297\u001b[90m, \u001b[39m1175419749\u001b[90m, \u001b[39m12090…\n",
      "$ median   \u001b[3m\u001b[90m<dbl>\u001b[39m\u001b[23m 150800\u001b[90m, \u001b[39m157100\u001b[90m, \u001b[39m167300\u001b[90m, \u001b[39m168700\u001b[90m, \u001b[39m175100\u001b[90m, \u001b[39m177900\u001b[90m, \u001b[39m176000\u001b[90m, \u001b[39m17420…\n",
      "$ listings \u001b[3m\u001b[90m<dbl>\u001b[39m\u001b[23m 16721\u001b[90m, \u001b[39m17173\u001b[90m, \u001b[39m17433\u001b[90m, \u001b[39m17632\u001b[90m, \u001b[39m17726\u001b[90m, \u001b[39m17587\u001b[90m, \u001b[39m17314\u001b[90m, \u001b[39m16611\u001b[90m, \u001b[39m15994…\n",
      "$ date     \u001b[3m\u001b[90m<dbl>\u001b[39m\u001b[23m 2012.000\u001b[90m, \u001b[39m2012.083\u001b[90m, \u001b[39m2012.167\u001b[90m, \u001b[39m2012.250\u001b[90m, \u001b[39m2012.333\u001b[90m, \u001b[39m2012.417\u001b[90m, \u001b[39m2…\n"
     ]
    }
   ],
   "source": [
    "# Filter the dataset\n",
    "dallas_sub <- txhousing %>%\n",
    "  filter(city == \"Dallas\", year %in% c(2012, 2013))\n",
    "\n",
    "# View it\n",
    "glimpse(dallas_sub)"
   ]
  },
  {
   "cell_type": "markdown",
   "id": "0caba233-423e-4101-8cf5-5a2da31627b8",
   "metadata": {},
   "source": [
    "Add a column to the `dallas_sub` data set called `prct_sold` that calculates the percentage of listings that were sold (`sales/listings * 100`). Be sure to save the results also as a data frame called `dallas_sub`."
   ]
  },
  {
   "cell_type": "code",
   "execution_count": 21,
   "id": "050843a7-1f70-4354-b88a-d00b6c0a81b3",
   "metadata": {
    "vscode": {
     "languageId": "r"
    }
   },
   "outputs": [
    {
     "name": "stdout",
     "output_type": "stream",
     "text": [
      "Rows: 24\n",
      "Columns: 9\n",
      "$ city      \u001b[3m\u001b[90m<chr>\u001b[39m\u001b[23m \"Dallas\"\u001b[90m, \u001b[39m\"Dallas\"\u001b[90m, \u001b[39m\"Dallas\"\u001b[90m, \u001b[39m\"Dallas\"\u001b[90m, \u001b[39m\"Dallas\"\u001b[90m, \u001b[39m\"Dallas\"\u001b[90m, \u001b[39m…\n",
      "$ year      \u001b[3m\u001b[90m<int>\u001b[39m\u001b[23m 2012\u001b[90m, \u001b[39m2012\u001b[90m, \u001b[39m2012\u001b[90m, \u001b[39m2012\u001b[90m, \u001b[39m2012\u001b[90m, \u001b[39m2012\u001b[90m, \u001b[39m2012\u001b[90m, \u001b[39m2012\u001b[90m, \u001b[39m2012\u001b[90m, \u001b[39m2012\u001b[90m, \u001b[39m…\n",
      "$ month     \u001b[3m\u001b[90m<int>\u001b[39m\u001b[23m 1\u001b[90m, \u001b[39m2\u001b[90m, \u001b[39m3\u001b[90m, \u001b[39m4\u001b[90m, \u001b[39m5\u001b[90m, \u001b[39m6\u001b[90m, \u001b[39m7\u001b[90m, \u001b[39m8\u001b[90m, \u001b[39m9\u001b[90m, \u001b[39m10\u001b[90m, \u001b[39m11\u001b[90m, \u001b[39m12\u001b[90m, \u001b[39m1\u001b[90m, \u001b[39m2\u001b[90m, \u001b[39m3\u001b[90m, \u001b[39m4\u001b[90m, \u001b[39m5\u001b[90m, \u001b[39m6\u001b[90m, \u001b[39m7\u001b[90m, \u001b[39m…\n",
      "$ sales     \u001b[3m\u001b[90m<dbl>\u001b[39m\u001b[23m 2555\u001b[90m, \u001b[39m3085\u001b[90m, \u001b[39m4068\u001b[90m, \u001b[39m4291\u001b[90m, \u001b[39m5004\u001b[90m, \u001b[39m5196\u001b[90m, \u001b[39m4859\u001b[90m, \u001b[39m5264\u001b[90m, \u001b[39m4151\u001b[90m, \u001b[39m4214\u001b[90m, \u001b[39m…\n",
      "$ volume    \u001b[3m\u001b[90m<dbl>\u001b[39m\u001b[23m 509458081\u001b[90m, \u001b[39m634067291\u001b[90m, \u001b[39m898320563\u001b[90m, \u001b[39m983333297\u001b[90m, \u001b[39m1175419749\u001b[90m, \u001b[39m1209…\n",
      "$ median    \u001b[3m\u001b[90m<dbl>\u001b[39m\u001b[23m 150800\u001b[90m, \u001b[39m157100\u001b[90m, \u001b[39m167300\u001b[90m, \u001b[39m168700\u001b[90m, \u001b[39m175100\u001b[90m, \u001b[39m177900\u001b[90m, \u001b[39m176000\u001b[90m, \u001b[39m1742…\n",
      "$ listings  \u001b[3m\u001b[90m<dbl>\u001b[39m\u001b[23m 16721\u001b[90m, \u001b[39m17173\u001b[90m, \u001b[39m17433\u001b[90m, \u001b[39m17632\u001b[90m, \u001b[39m17726\u001b[90m, \u001b[39m17587\u001b[90m, \u001b[39m17314\u001b[90m, \u001b[39m16611\u001b[90m, \u001b[39m1599…\n",
      "$ date      \u001b[3m\u001b[90m<dbl>\u001b[39m\u001b[23m 2012.000\u001b[90m, \u001b[39m2012.083\u001b[90m, \u001b[39m2012.167\u001b[90m, \u001b[39m2012.250\u001b[90m, \u001b[39m2012.333\u001b[90m, \u001b[39m2012.417\u001b[90m, \u001b[39m…\n",
      "$ prct_sold \u001b[3m\u001b[90m<dbl>\u001b[39m\u001b[23m 15.28019\u001b[90m, \u001b[39m17.96425\u001b[90m, \u001b[39m23.33505\u001b[90m, \u001b[39m24.33643\u001b[90m, \u001b[39m28.22972\u001b[90m, \u001b[39m29.54455\u001b[90m, \u001b[39m…\n"
     ]
    }
   ],
   "source": [
    "# Add the prct_sold column\n",
    "dallas_sub <- dallas_sub %>%\n",
    "  mutate(prct_sold = (sales / listings) * 100)\n",
    "\n",
    "# View it\n",
    "glimpse(dallas_sub)"
   ]
  },
  {
   "cell_type": "markdown",
   "id": "200cee5a-8921-423a-8c60-164f839816aa",
   "metadata": {},
   "source": [
    "Calculate the average percentage of listings that were sold in Dallas in each month of the year based on your `dallas_sub` data set. Save the results of the calculation in an data frame called `dallas_summary`."
   ]
  },
  {
   "cell_type": "code",
   "execution_count": 22,
   "id": "d16924b4-378d-46a0-b00b-e86633fc48a2",
   "metadata": {
    "vscode": {
     "languageId": "r"
    }
   },
   "outputs": [
    {
     "name": "stdout",
     "output_type": "stream",
     "text": [
      "\u001b[90m# A tibble: 12 × 2\u001b[39m\n",
      "   month avg_prct_sold\n",
      "   \u001b[3m\u001b[90m<int>\u001b[39m\u001b[23m         \u001b[3m\u001b[90m<dbl>\u001b[39m\u001b[23m\n",
      "\u001b[90m 1\u001b[39m     1          20.5\n",
      "\u001b[90m 2\u001b[39m     2          23.5\n",
      "\u001b[90m 3\u001b[39m     3          32.2\n",
      "\u001b[90m 4\u001b[39m     4          34.5\n",
      "\u001b[90m 5\u001b[39m     5          38.2\n",
      "\u001b[90m 6\u001b[39m     6          37.2\n",
      "\u001b[90m 7\u001b[39m     7          37.1\n",
      "\u001b[90m 8\u001b[39m     8          38.5\n",
      "\u001b[90m 9\u001b[39m     9          31.8\n",
      "\u001b[90m10\u001b[39m    10          32.1\n",
      "\u001b[90m11\u001b[39m    11          30.6\n",
      "\u001b[90m12\u001b[39m    12          35.5\n"
     ]
    }
   ],
   "source": [
    "# Calculate the average percentage of listings sold per month\n",
    "dallas_summary <- dallas_sub %>%\n",
    "  group_by(month) %>%\n",
    "  summarise(avg_prct_sold = mean(prct_sold, na.rm = TRUE))\n",
    "\n",
    "# View it\n",
    "print(dallas_summary)"
   ]
  },
  {
   "cell_type": "markdown",
   "id": "52f92165-6346-46af-851f-b3510df8227d",
   "metadata": {},
   "source": [
    "Use `slice_max` to see the top 3 months with the greatest average percentage of listings sold from `dallas_summary`. You do not need to save the results."
   ]
  },
  {
   "cell_type": "code",
   "execution_count": 23,
   "id": "3cdadffb-5190-4d0c-80e9-d8ee7e17cfd7",
   "metadata": {
    "vscode": {
     "languageId": "r"
    }
   },
   "outputs": [
    {
     "data": {
      "text/html": [
       "<table class=\"dataframe\">\n",
       "<caption>A tibble: 3 × 2</caption>\n",
       "<thead>\n",
       "\t<tr><th scope=col>month</th><th scope=col>avg_prct_sold</th></tr>\n",
       "\t<tr><th scope=col>&lt;int&gt;</th><th scope=col>&lt;dbl&gt;</th></tr>\n",
       "</thead>\n",
       "<tbody>\n",
       "\t<tr><td>8</td><td>38.51543</td></tr>\n",
       "\t<tr><td>5</td><td>38.20168</td></tr>\n",
       "\t<tr><td>6</td><td>37.19150</td></tr>\n",
       "</tbody>\n",
       "</table>\n"
      ],
      "text/latex": [
       "A tibble: 3 × 2\n",
       "\\begin{tabular}{ll}\n",
       " month & avg\\_prct\\_sold\\\\\n",
       " <int> & <dbl>\\\\\n",
       "\\hline\n",
       "\t 8 & 38.51543\\\\\n",
       "\t 5 & 38.20168\\\\\n",
       "\t 6 & 37.19150\\\\\n",
       "\\end{tabular}\n"
      ],
      "text/markdown": [
       "\n",
       "A tibble: 3 × 2\n",
       "\n",
       "| month &lt;int&gt; | avg_prct_sold &lt;dbl&gt; |\n",
       "|---|---|\n",
       "| 8 | 38.51543 |\n",
       "| 5 | 38.20168 |\n",
       "| 6 | 37.19150 |\n",
       "\n"
      ],
      "text/plain": [
       "  month avg_prct_sold\n",
       "1 8     38.51543     \n",
       "2 5     38.20168     \n",
       "3 6     37.19150     "
      ]
     },
     "metadata": {},
     "output_type": "display_data"
    }
   ],
   "source": [
    "# Display the top 3 months with the highest average percentage of listings sold\n",
    "dallas_summary %>%\n",
    "  slice_max(avg_prct_sold, n = 3)"
   ]
  },
  {
   "cell_type": "markdown",
   "id": "61cad110-7858-4245-a8fd-de9a1e6b5dbc",
   "metadata": {},
   "source": [
    "Run the following code chunk. Study the code, and the output. Explain in your own words what this code chunk calculated."
   ]
  },
  {
   "cell_type": "code",
   "execution_count": 24,
   "id": "2d983e66-c2ff-4964-a5a5-442646aeaa46",
   "metadata": {
    "vscode": {
     "languageId": "r"
    }
   },
   "outputs": [
    {
     "data": {
      "text/html": [
       "<table class=\"dataframe\">\n",
       "<caption>A tibble: 3 × 2</caption>\n",
       "<thead>\n",
       "\t<tr><th scope=col>month</th><th scope=col>mean_prct_sold</th></tr>\n",
       "\t<tr><th scope=col>&lt;int&gt;</th><th scope=col>&lt;dbl&gt;</th></tr>\n",
       "</thead>\n",
       "<tbody>\n",
       "\t<tr><td>8</td><td>38.51543</td></tr>\n",
       "\t<tr><td>5</td><td>38.20168</td></tr>\n",
       "\t<tr><td>6</td><td>37.19150</td></tr>\n",
       "</tbody>\n",
       "</table>\n"
      ],
      "text/latex": [
       "A tibble: 3 × 2\n",
       "\\begin{tabular}{ll}\n",
       " month & mean\\_prct\\_sold\\\\\n",
       " <int> & <dbl>\\\\\n",
       "\\hline\n",
       "\t 8 & 38.51543\\\\\n",
       "\t 5 & 38.20168\\\\\n",
       "\t 6 & 37.19150\\\\\n",
       "\\end{tabular}\n"
      ],
      "text/markdown": [
       "\n",
       "A tibble: 3 × 2\n",
       "\n",
       "| month &lt;int&gt; | mean_prct_sold &lt;dbl&gt; |\n",
       "|---|---|\n",
       "| 8 | 38.51543 |\n",
       "| 5 | 38.20168 |\n",
       "| 6 | 37.19150 |\n",
       "\n"
      ],
      "text/plain": [
       "  month mean_prct_sold\n",
       "1 8     38.51543      \n",
       "2 5     38.20168      \n",
       "3 6     37.19150      "
      ]
     },
     "metadata": {},
     "output_type": "display_data"
    }
   ],
   "source": [
    "txhousing |>\n",
    "  filter(year == 2012 | year == 2013, city == \"Dallas\") |>\n",
    "  mutate(prct_sold = sales/listings *100) |>\n",
    "  group_by(month) |>\n",
    "  summarize(mean_prct_sold = mean(prct_sold)) |>\n",
    "  slice_max(mean_prct_sold, n = 3)"
   ]
  },
  {
   "cell_type": "markdown",
   "id": "1dcd62c1-7f86-4fc4-984b-f679a454fe72",
   "metadata": {
    "vscode": {
     "languageId": "r"
    }
   },
   "source": [
    "This code filters the `txhousing` dataset to include only Dallas data from 2012 and 2013, calculates the percentage of listings sold, and groups by month. It then finds the average percentage of listings sold for each month and selects the top three months with the highest values. The final output shows the months when Dallas had the most active housing sales based on listing percentages.\n"
   ]
  }
 ],
 "metadata": {
  "kernelspec": {
   "display_name": "R",
   "language": "R",
   "name": "ir"
  },
  "language_info": {
   "codemirror_mode": "r",
   "file_extension": ".r",
   "mimetype": "text/x-r-source",
   "name": "R",
   "pygments_lexer": "r",
   "version": "4.3.3"
  }
 },
 "nbformat": 4,
 "nbformat_minor": 5
}
